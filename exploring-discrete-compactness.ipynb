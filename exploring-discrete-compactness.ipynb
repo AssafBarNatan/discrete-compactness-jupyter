{
 "cells": [
  {
   "cell_type": "markdown",
   "metadata": {},
   "source": [
    "# Exploring Discrete Compactness"
   ]
  },
  {
   "cell_type": "markdown",
   "metadata": {},
   "source": [
    "In this notebook, we explore some discrete methods of computing district compactness, and compare their outputs."
   ]
  },
  {
   "cell_type": "code",
   "execution_count": 3,
   "metadata": {
    "scrolled": true
   },
   "outputs": [
    {
     "data": {
      "image/png": "[encoded data removed]",
      "text/plain": [
       "<Figure size 432x288 with 1 Axes>"
      ]
     },
     "metadata": {},
     "output_type": "display_data"
    }
   ],
   "source": [
    "import pandas as pd\n",
    "import geopandas as gpd\n",
    "import matplotlib.pyplot as plt\n",
    "\n",
    "df_big = gpd.read_file(\"./cd2013/tl_rd13_us_cd113.shp\")\n",
    "df_small = gpd.read_file(\"./counties2013/cb_2013_us_county_500k.shp\")\n",
    "df_big.plot()\n",
    "plt.show()"
   ]
  },
  {
   "cell_type": "markdown",
   "metadata": {},
   "source": [
    "The first discrete compactness score will replace perimeter with the number of small units touching the shape boundary, and replace area with the number of small units touching the shape itself."
   ]
  },
  {
   "cell_type": "code",
   "execution_count": 10,
   "metadata": {},
   "outputs": [],
   "source": [
    "## TODO: map projections don't seem to work, or at least... some of them do.\n",
    "\n",
    "#df_big = df_big.iloc[:5]\n",
    "#df_big = df_big.to_crs({'init': 'epsg:102005'})\n",
    "#df_big = df_big.to_crs({\"init\": \"epsg:32614\"})\n",
    "#df_big.plot()\n",
    "#plt.show()"
   ]
  },
  {
   "cell_type": "code",
   "execution_count": 26,
   "metadata": {},
   "outputs": [],
   "source": [
    "df_big = df_big.iloc[:5]\n",
    "df_big = df_big.to_crs({'init': 'epsg:102005'})\n",
    "\n",
    "discrete_data = pd.DataFrame(columns=[\"GEOID\",\"dperim\",\"darea\",\"perim\",\"area\"])\n",
    "\n",
    "discrete_data = {}\n",
    "for i, big_unit in df_big.iterrows():\n",
    "    discrete_perimeter = 0\n",
    "    discrete_area = 0\n",
    "    for i, small_unit in df_small.iterrows():\n",
    "        if small_unit.geometry.intersects(big_unit.geometry):\n",
    "            discrete_area += 1\n",
    "        if small_unit.geometry.intersects(big_unit.geometry.boundary):\n",
    "            discrete_perimeter +=1\n",
    "    perimeter = big_unit.geometrt.boundary.length()\n",
    "    discrete_data.concat(discrete_data,pd.DataFrame())\n",
    "    # discrete_data.update({big_unit[\"GEOID\"]:[discrete_area,discrete_perimeter]})\n",
    "    >>>df2 = pd.DataFrame([[2,3,4]],columns=['A','B','C'])\n",
    ">>>pd.concat([df2,df])\n",
    "    "
   ]
  },
  {
   "cell_type": "markdown",
   "metadata": {},
   "source": [
    "We can now play around with these discrete measures. Let's use the simple ratio of discrete perimeter to discrete area."
   ]
  },
  {
   "cell_type": "code",
   "execution_count": null,
   "metadata": {},
   "outputs": [],
   "source": []
  }
 ],
 "metadata": {
  "kernelspec": {
   "display_name": "Python 3",
   "language": "python",
   "name": "python3"
  },
  "language_info": {
   "codemirror_mode": {
    "name": "ipython",
    "version": 3
   },
   "file_extension": ".py",
   "mimetype": "text/x-python",
   "name": "python",
   "nbconvert_exporter": "python",
   "pygments_lexer": "ipython3",
   "version": "3.6.5"
  }
 },
 "nbformat": 4,
 "nbformat_minor": 2
}
